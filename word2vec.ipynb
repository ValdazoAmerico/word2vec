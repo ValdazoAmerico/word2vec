{
  "nbformat": 4,
  "nbformat_minor": 0,
  "metadata": {
    "colab": {
      "name": "word2vec.ipynb",
      "provenance": [],
      "authorship_tag": "ABX9TyMrGBJ+ULjVr+i+9LG5yYYb",
      "include_colab_link": true
    },
    "kernelspec": {
      "name": "python3",
      "display_name": "Python 3"
    },
    "language_info": {
      "name": "python"
    }
  },
  "cells": [
    {
      "cell_type": "markdown",
      "metadata": {
        "id": "view-in-github",
        "colab_type": "text"
      },
      "source": [
        "<a href=\"https://colab.research.google.com/github/ValdazoAmerico/word2vec/blob/main/word2vec.ipynb\" target=\"_parent\"><img src=\"https://colab.research.google.com/assets/colab-badge.svg\" alt=\"Open In Colab\"/></a>"
      ]
    },
    {
      "cell_type": "code",
      "metadata": {
        "id": "yCJbiqjJBbWh"
      },
      "source": [
        "from google.colab import drive\n",
        "import tensorflow as tf\n",
        "from tensorflow.keras.preprocessing.text import Tokenizer"
      ],
      "execution_count": 1,
      "outputs": []
    },
    {
      "cell_type": "code",
      "metadata": {
        "colab": {
          "base_uri": "https://localhost:8080/"
        },
        "id": "1CsfBG0j8u66",
        "outputId": "d2793bc5-fbcc-46ef-eff1-643de69da679"
      },
      "source": [
        "from google.colab import drive\n",
        "drive.mount(\"/content/drive\")"
      ],
      "execution_count": 2,
      "outputs": [
        {
          "output_type": "stream",
          "text": [
            "Mounted at /content/drive\n"
          ],
          "name": "stdout"
        }
      ]
    },
    {
      "cell_type": "code",
      "metadata": {
        "id": "U7f07COl8vba"
      },
      "source": [
        "# Load my word embeddings\n",
        "import gensim\n",
        "wordembeddings = gensim.models.KeyedVectors.load_word2vec_format('drive/My Drive/GoogleNews-vectors-negative300.bin', binary=True)"
      ],
      "execution_count": 3,
      "outputs": []
    },
    {
      "cell_type": "code",
      "metadata": {
        "id": "N-f75iKE9B9m"
      },
      "source": [
        "x = [\"I am very happy today\", \"No, I do not like the movie\"]\n",
        "y = [1,0]"
      ],
      "execution_count": 4,
      "outputs": []
    },
    {
      "cell_type": "code",
      "metadata": {
        "id": "gEIFeD1yBfbj"
      },
      "source": [
        "#Create a tokenizer, configured to only take into account the 20 most common words\n",
        "tokenizer = Tokenizer(num_words=20)"
      ],
      "execution_count": 8,
      "outputs": []
    },
    {
      "cell_type": "code",
      "metadata": {
        "id": "Tw8cjp7IBiBy"
      },
      "source": [
        "#Build the word index\n",
        "tokenizer.fit_on_texts(x)"
      ],
      "execution_count": 9,
      "outputs": []
    },
    {
      "cell_type": "code",
      "metadata": {
        "id": "8cLiBqOfBkGJ"
      },
      "source": [
        "sequences = tokenizer.texts_to_sequences(x)"
      ],
      "execution_count": 10,
      "outputs": []
    },
    {
      "cell_type": "code",
      "metadata": {
        "colab": {
          "base_uri": "https://localhost:8080/"
        },
        "id": "lssf8rnaByfW",
        "outputId": "7a86fa21-cf22-4de5-a9df-a837b1737a7b"
      },
      "source": [
        "sequences"
      ],
      "execution_count": 11,
      "outputs": [
        {
          "output_type": "execute_result",
          "data": {
            "text/plain": [
              "[[1, 2, 3, 4, 5], [6, 1, 7, 8, 9, 10, 11]]"
            ]
          },
          "metadata": {
            "tags": []
          },
          "execution_count": 11
        }
      ]
    },
    {
      "cell_type": "code",
      "metadata": {
        "colab": {
          "base_uri": "https://localhost:8080/"
        },
        "id": "wXF2ZgSiB9gz",
        "outputId": "34ea6380-4494-475c-8483-c91bb915d560"
      },
      "source": [
        "word_index = tokenizer.word_index\n",
        "print(tokenizer.word_index)\n",
        "print('Found %s unique tokens.' % len(word_index))"
      ],
      "execution_count": 12,
      "outputs": [
        {
          "output_type": "stream",
          "text": [
            "{'i': 1, 'am': 2, 'very': 3, 'happy': 4, 'today': 5, 'no': 6, 'do': 7, 'not': 8, 'like': 9, 'the': 10, 'movie': 11}\n",
            "Found 11 unique tokens.\n"
          ],
          "name": "stdout"
        }
      ]
    },
    {
      "cell_type": "code",
      "metadata": {
        "colab": {
          "base_uri": "https://localhost:8080/"
        },
        "id": "oUdu4PClCMB-",
        "outputId": "9b38e85d-219e-4db9-bb8d-f91fade415b9"
      },
      "source": [
        "max_length = 0\n",
        "for review_number in range(len(sequences)):\n",
        "  numberofwords=len(sequences[review_number])\n",
        "  if (numberofwords) > (max_length):\n",
        "    max_length = numberofwords\n",
        "print(max_length)\n",
        " "
      ],
      "execution_count": 13,
      "outputs": [
        {
          "output_type": "stream",
          "text": [
            "7\n"
          ],
          "name": "stdout"
        }
      ]
    },
    {
      "cell_type": "code",
      "metadata": {
        "colab": {
          "base_uri": "https://localhost:8080/"
        },
        "id": "Ua8ONOdYCr8j",
        "outputId": "36e3ec92-6bc1-4c86-8417-ba6b2ee6c2c4"
      },
      "source": [
        "from tensorflow.keras.preprocessing.sequence import pad_sequences\n",
        "import numpy as np\n",
        "data = pad_sequences(sequences,maxlen=max_length)\n",
        "y =  np.asarray(y)\n",
        "print(data)\n",
        "print('Shape of data tensor:',data.shape)\n",
        "print('Shape of label tensor:',y.shape)"
      ],
      "execution_count": 14,
      "outputs": [
        {
          "output_type": "stream",
          "text": [
            "[[ 0  0  1  2  3  4  5]\n",
            " [ 6  1  7  8  9 10 11]]\n",
            "Shape of data tensor: (2, 7)\n",
            "Shape of label tensor: (2,)\n"
          ],
          "name": "stdout"
        }
      ]
    },
    {
      "cell_type": "code",
      "metadata": {
        "colab": {
          "base_uri": "https://localhost:8080/"
        },
        "id": "6yGWY8bWDURG",
        "outputId": "31342705-c089-44a1-c209-5fb406082de4"
      },
      "source": [
        "unique_words = len(word_index)\n",
        "total_words = unique_words + 1\n",
        "skipped_words = 0\n",
        "embedding_dim = 300\n",
        "embedding_matrix = np.zeros((total_words, embedding_dim))\n",
        "for word, index in tokenizer.word_index.items():\n",
        "  try:\n",
        "    embedding_vector = wordembeddings[word]\n",
        "  except:\n",
        "    skipped_words = skipped_words+1\n",
        "    pass\n",
        "  if embedding_vector is not None:\n",
        "    embedding_matrix[index] = embedding_vector\n",
        "print(\"Embeddings Matrix Shape:\", embedding_matrix.shape)\n"
      ],
      "execution_count": 16,
      "outputs": [
        {
          "output_type": "stream",
          "text": [
            "Embeddings Matrix Shape: (12, 300)\n"
          ],
          "name": "stdout"
        }
      ]
    },
    {
      "cell_type": "code",
      "metadata": {
        "colab": {
          "base_uri": "https://localhost:8080/"
        },
        "id": "FudVpxo9D1_u",
        "outputId": "feb342e8-111b-454a-d897-aa25a9376d15"
      },
      "source": [
        "embedding_matrix[3] - wordembeddings.wv['very']"
      ],
      "execution_count": 17,
      "outputs": [
        {
          "output_type": "stream",
          "text": [
            "/usr/local/lib/python3.7/dist-packages/ipykernel_launcher.py:1: DeprecationWarning: Call to deprecated `wv` (Attribute will be removed in 4.0.0, use self instead).\n",
            "  \"\"\"Entry point for launching an IPython kernel.\n"
          ],
          "name": "stderr"
        },
        {
          "output_type": "execute_result",
          "data": {
            "text/plain": [
              "array([0., 0., 0., 0., 0., 0., 0., 0., 0., 0., 0., 0., 0., 0., 0., 0., 0.,\n",
              "       0., 0., 0., 0., 0., 0., 0., 0., 0., 0., 0., 0., 0., 0., 0., 0., 0.,\n",
              "       0., 0., 0., 0., 0., 0., 0., 0., 0., 0., 0., 0., 0., 0., 0., 0., 0.,\n",
              "       0., 0., 0., 0., 0., 0., 0., 0., 0., 0., 0., 0., 0., 0., 0., 0., 0.,\n",
              "       0., 0., 0., 0., 0., 0., 0., 0., 0., 0., 0., 0., 0., 0., 0., 0., 0.,\n",
              "       0., 0., 0., 0., 0., 0., 0., 0., 0., 0., 0., 0., 0., 0., 0., 0., 0.,\n",
              "       0., 0., 0., 0., 0., 0., 0., 0., 0., 0., 0., 0., 0., 0., 0., 0., 0.,\n",
              "       0., 0., 0., 0., 0., 0., 0., 0., 0., 0., 0., 0., 0., 0., 0., 0., 0.,\n",
              "       0., 0., 0., 0., 0., 0., 0., 0., 0., 0., 0., 0., 0., 0., 0., 0., 0.,\n",
              "       0., 0., 0., 0., 0., 0., 0., 0., 0., 0., 0., 0., 0., 0., 0., 0., 0.,\n",
              "       0., 0., 0., 0., 0., 0., 0., 0., 0., 0., 0., 0., 0., 0., 0., 0., 0.,\n",
              "       0., 0., 0., 0., 0., 0., 0., 0., 0., 0., 0., 0., 0., 0., 0., 0., 0.,\n",
              "       0., 0., 0., 0., 0., 0., 0., 0., 0., 0., 0., 0., 0., 0., 0., 0., 0.,\n",
              "       0., 0., 0., 0., 0., 0., 0., 0., 0., 0., 0., 0., 0., 0., 0., 0., 0.,\n",
              "       0., 0., 0., 0., 0., 0., 0., 0., 0., 0., 0., 0., 0., 0., 0., 0., 0.,\n",
              "       0., 0., 0., 0., 0., 0., 0., 0., 0., 0., 0., 0., 0., 0., 0., 0., 0.,\n",
              "       0., 0., 0., 0., 0., 0., 0., 0., 0., 0., 0., 0., 0., 0., 0., 0., 0.,\n",
              "       0., 0., 0., 0., 0., 0., 0., 0., 0., 0., 0.])"
            ]
          },
          "metadata": {
            "tags": []
          },
          "execution_count": 17
        }
      ]
    },
    {
      "cell_type": "code",
      "metadata": {
        "id": "ic4g69eqa2Ni"
      },
      "source": [
        "from tensorflow.keras.layers import *\n",
        "\n",
        "embedding_layer = Embedding(total_words, embedding_dim, weights=[embedding_matrix], input_length=max_length, trainable=False)"
      ],
      "execution_count": 19,
      "outputs": []
    },
    {
      "cell_type": "code",
      "metadata": {
        "colab": {
          "base_uri": "https://localhost:8080/"
        },
        "id": "rLVL5tS0bEDv",
        "outputId": "dd1c3c51-4ac2-4fbc-82f3-28fc65834364"
      },
      "source": [
        "from tensorflow.keras.models import *\n",
        "\n",
        "model = Sequential()\n",
        "model.add(embedding_layer)\n",
        "model.add(SimpleRNN(128,activation='relu',return_sequences=True))\n",
        "model.add(SimpleRNN(256,activation='relu'))\n",
        "model.add(Dense(1, activation='sigmoid'))\n",
        "print(model.summary())"
      ],
      "execution_count": 20,
      "outputs": [
        {
          "output_type": "stream",
          "text": [
            "Model: \"sequential\"\n",
            "_________________________________________________________________\n",
            "Layer (type)                 Output Shape              Param #   \n",
            "=================================================================\n",
            "embedding (Embedding)        (None, 7, 300)            3600      \n",
            "_________________________________________________________________\n",
            "simple_rnn (SimpleRNN)       (None, 7, 128)            54912     \n",
            "_________________________________________________________________\n",
            "simple_rnn_1 (SimpleRNN)     (None, 256)               98560     \n",
            "_________________________________________________________________\n",
            "dense (Dense)                (None, 1)                 257       \n",
            "=================================================================\n",
            "Total params: 157,329\n",
            "Trainable params: 153,729\n",
            "Non-trainable params: 3,600\n",
            "_________________________________________________________________\n",
            "None\n"
          ],
          "name": "stdout"
        }
      ]
    },
    {
      "cell_type": "code",
      "metadata": {
        "colab": {
          "base_uri": "https://localhost:8080/"
        },
        "id": "bvDLeiiobeXe",
        "outputId": "391f09c1-76f4-478c-c71c-534da00ed95d"
      },
      "source": [
        "from keras.optimizers import *\n",
        "\n",
        "opt = SGD(lr=0.01,decay=1e-6)\n",
        "model.compile(loss = \"binary_crossentropy\", optimizer=opt,metrics=['accuracy'])\n",
        "model.fit(data, y, epochs=10, verbose=1)"
      ],
      "execution_count": 23,
      "outputs": [
        {
          "output_type": "stream",
          "text": [
            "Epoch 1/10\n",
            "1/1 [==============================] - 2s 2s/step - loss: 0.6693 - accuracy: 0.5000\n",
            "Epoch 2/10\n",
            "1/1 [==============================] - 0s 14ms/step - loss: 0.6515 - accuracy: 1.0000\n",
            "Epoch 3/10\n",
            "1/1 [==============================] - 0s 16ms/step - loss: 0.6347 - accuracy: 1.0000\n",
            "Epoch 4/10\n",
            "1/1 [==============================] - 0s 15ms/step - loss: 0.6193 - accuracy: 1.0000\n",
            "Epoch 5/10\n",
            "1/1 [==============================] - 0s 10ms/step - loss: 0.6045 - accuracy: 1.0000\n",
            "Epoch 6/10\n",
            "1/1 [==============================] - 0s 13ms/step - loss: 0.5898 - accuracy: 1.0000\n",
            "Epoch 7/10\n",
            "1/1 [==============================] - 0s 13ms/step - loss: 0.5760 - accuracy: 1.0000\n",
            "Epoch 8/10\n",
            "1/1 [==============================] - 0s 9ms/step - loss: 0.5628 - accuracy: 1.0000\n",
            "Epoch 9/10\n",
            "1/1 [==============================] - 0s 14ms/step - loss: 0.5505 - accuracy: 1.0000\n",
            "Epoch 10/10\n",
            "1/1 [==============================] - 0s 11ms/step - loss: 0.5389 - accuracy: 1.0000\n"
          ],
          "name": "stdout"
        },
        {
          "output_type": "execute_result",
          "data": {
            "text/plain": [
              "<tensorflow.python.keras.callbacks.History at 0x7f0a5d1f2b50>"
            ]
          },
          "metadata": {
            "tags": []
          },
          "execution_count": 23
        }
      ]
    },
    {
      "cell_type": "code",
      "metadata": {
        "id": "0UhwyIe7b1Xo"
      },
      "source": [
        ""
      ],
      "execution_count": null,
      "outputs": []
    }
  ]
}